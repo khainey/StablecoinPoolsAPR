{
 "cells": [
  {
   "cell_type": "markdown",
   "id": "3c47bd94",
   "metadata": {},
   "source": [
    "### Imports"
   ]
  },
  {
   "cell_type": "code",
   "execution_count": 1,
   "id": "bd36339e",
   "metadata": {},
   "outputs": [],
   "source": [
    "from selenium import webdriver\n",
    "import pandas as pd\n",
    "import time\n",
    "from bs4 import BeautifulSoup\n",
    "import requests"
   ]
  },
  {
   "cell_type": "code",
   "execution_count": 2,
   "id": "36b9bdf6",
   "metadata": {},
   "outputs": [],
   "source": [
    "#open the web browser with webdriver \n",
    "from selenium import webdriver\n",
    "from selenium.webdriver.chrome.service import Service\n",
    "from webdriver_manager.chrome import ChromeDriverManager\n",
    "from selenium.webdriver.support.ui import Select\n",
    "from selenium.webdriver.common.by import By\n",
    "from selenium.webdriver.support.ui import WebDriverWait\n",
    "from selenium.webdriver.support import expected_conditions as EC"
   ]
  },
  {
   "cell_type": "markdown",
   "id": "086f59c4",
   "metadata": {},
   "source": [
    "### Browser Automation with Selenium"
   ]
  },
  {
   "cell_type": "code",
   "execution_count": 3,
   "id": "b4d4c8cf",
   "metadata": {
    "scrolled": true
   },
   "outputs": [
    {
     "name": "stderr",
     "output_type": "stream",
     "text": [
      "\n",
      "\n",
      "====== WebDriver manager ======\n",
      "Current google-chrome version is 99.0.4844\n",
      "Get LATEST chromedriver version for 99.0.4844 google-chrome\n",
      "Driver [/Users/khai/.wdm/drivers/chromedriver/mac64/99.0.4844.51/chromedriver] found in cache\n"
     ]
    }
   ],
   "source": [
    "#download the chrome driver.exe file first\n",
    "#type chrome://version/ to find out the version you are using\n",
    "options = webdriver.ChromeOptions()\n",
    "options.add_argument('--ignore-certificate-errors')\n",
    "options.add_argument('--incognito')\n",
    "options.add_argument('--headless')\n",
    "options.add_argument('--no-sandbox')\n",
    "options.add_argument('--disable-dev-shm-usage')\n",
    "driver  = webdriver.Chrome(service=Service(ChromeDriverManager().install()))"
   ]
  },
  {
   "cell_type": "markdown",
   "id": "70457350",
   "metadata": {},
   "source": [
    "Using class name:\n",
    "button = driver.find_element(By.CLASS_NAME, \"quiz_button\")\n",
    "\n",
    "Using id:\n",
    "element = driver.find_element(By.ID, \"element_id\")\n",
    "\n",
    "Using name:\n",
    "element = driver.find_element(By.NAME, \"element_name\")\n",
    "\n",
    "Using link_text:\n",
    "element = driver.find_element(By.LINK_TEXT, \"element_link_text\")\n",
    "\n",
    "Using partial_link_text:\n",
    "element = driver.find_element(By.PARTIAL_LINK_TEXT, \"element_partial_link_text\")\n",
    "\n",
    "Using tag_name:\n",
    "element = driver.find_element(By.TAG_NAME, \"element_tag_name\")\n",
    "\n",
    "Using css_selector:\n",
    "element = driver.find_element(By.CSS_SELECTOR, \"element_css_selector\")\n",
    "\n",
    "Using xpath:\n",
    "element = driver.find_element(By.XPATH, \"element_xpath\")"
   ]
  },
  {
   "cell_type": "code",
   "execution_count": 4,
   "id": "12285040",
   "metadata": {},
   "outputs": [],
   "source": [
    "driver.get('https://yieldsamurai.com/')\n",
    "#press filter\n",
    "filter = driver.find_element(By.CLASS_NAME, \"jss75\")\n",
    "filter.click()\n",
    "time.sleep(3)\n",
    "\n",
    "#select all stablecoin\n",
    "one_coin = driver.find_element(By.XPATH, \"(//input[@class='jss87 MuiSwitch-input'])[1]\")\n",
    "one_coin.click()\n",
    "time.sleep(2)\n",
    "\n",
    "#select at least one stablecoin\n",
    "one_coin = driver.find_element(By.XPATH, \"(//input[@class='jss87 MuiSwitch-input'])[2]\")\n",
    "one_coin.click()\n",
    "time.sleep(2)\n",
    "\n",
    "#click apply filters\n",
    "apply_filters = driver.find_element(By.XPATH, '//button[contains(.,\"Apply Filters\")]')\n",
    "apply_filters.click()\n",
    "time.sleep(5)\n",
    "\n",
    "#select liquidity\n",
    "select_liquidity = driver.find_element(By.XPATH, '//button[contains(.,\"Liquidity\")]')\n",
    "select_liquidity.click()\n",
    "time.sleep(3)\n",
    "\n",
    "#selet dropdown 7d \n",
    "select_dropdown = driver.find_element(By.XPATH, \"(//button[@class='MuiButtonBase-root MuiButton-root MuiButton-contained jss123 MuiButton-containedSizeSmall MuiButton-sizeSmall MuiButton-disableElevation'])[4]\")\n",
    "select_dropdown.click()\n",
    "time.sleep(3)\n",
    "\n",
    "#select All\n",
    "select_all = driver.find_element(By.XPATH, \"(//li[@class='MuiButtonBase-root MuiListItem-root MuiMenuItem-root MuiListItem-dense MuiMenuItem-dense MuiListItem-button'])[24]\")\n",
    "select_all.click()"
   ]
  },
  {
   "cell_type": "code",
   "execution_count": 5,
   "id": "7e240a1a",
   "metadata": {},
   "outputs": [],
   "source": [
    "#store this url in a different variable b4 handing it over to bs\n",
    "#current \n",
    "current_url = driver.current_url"
   ]
  },
  {
   "cell_type": "markdown",
   "id": "70a4eb9b",
   "metadata": {},
   "source": [
    "title_is\n",
    "\n",
    "title_contains\n",
    "\n",
    "presence_of_element_located\n",
    "\n",
    "visibility_of_element_located\n",
    "\n",
    "visibility_of\n",
    "\n",
    "presence_of_all_elements_located\n",
    "\n",
    "text_to_be_present_in_element\n",
    "\n",
    "text_to_be_present_in_element_value\n",
    "\n",
    "frame_to_be_available_and_switch_to_it\n",
    "\n",
    "invisibility_of_element_located\n",
    "\n",
    "element_to_be_clickable\n",
    "\n",
    "staleness_of\n",
    "\n",
    "element_to_be_selected\n",
    "\n",
    "element_located_to_be_selected\n",
    "\n",
    "element_selection_state_to_be\n",
    "\n",
    "element_located_selection_state_to_be\n",
    "\n",
    "alert_is_present"
   ]
  },
  {
   "cell_type": "markdown",
   "id": "495e8b66",
   "metadata": {},
   "source": [
    "### Data Extraction with Beautiful Soup"
   ]
  },
  {
   "cell_type": "code",
   "execution_count": 6,
   "id": "9d0055af",
   "metadata": {},
   "outputs": [
    {
     "data": {
      "text/plain": [
       "<!DOCTYPE html>\n",
       "<html lang=\"en\"><head><meta charset=\"utf-8\"/><title>Yield Samurai - Historical &amp; Aggregate Decentralized Finance Data</title><meta content=\"width=device-width,initial-scale=1\" name=\"viewport\"/><meta content=\"yes\" name=\"mobile-web-app-capable\"/><meta content=\"yes\" name=\"apple-mobile-web-app-capable\"/><meta content=\"Yield Samurai - Historical &amp; Aggregate Decentralized Finance Data\" name=\"title\"/><meta content=\"Yield Samurai exposes historical and aggregate data to help defi investors find the best opportunities for their cryptoassets.\" name=\"description\"/><link href=\"https://use.typekit.net/ylk8bic.css\" rel=\"stylesheet\"/><link href=\"https://yieldsamurai.nyc3.cdn.digitaloceanspaces.com/img/icon.png\" rel=\"icon\"/><meta content=\"website\" property=\"og:type\"/><meta content=\"https://yieldsamurai.com/\" property=\"og:url\"/><meta content=\"Yield Samurai - Historical &amp; Aggregate Decentralized Finance Data\" property=\"og:title\"/><meta content=\"Yield Samurai exposes historical and aggregate data to help defi investors find the best opportunities for their cryptoassets.\" property=\"og:description\"/><meta content=\"https://yieldsamurai.nyc3.cdn.digitaloceanspaces.com/img/wallpaper.png\" property=\"og:image\"/><meta content=\"summary_large_image\" property=\"twitter:card\"/><meta content=\"https://yieldsamurai.com/\" property=\"twitter:url\"/><meta content=\"Yield Samurai - Historical &amp; Aggregate Decentralized Finance Data\" property=\"twitter:title\"/><meta content=\"Yield Samurai exposes historical and aggregate data to help defi investors find the best opportunities for their cryptoassets.\" property=\"twitter:description\"/><meta content=\"https://yieldsamurai.nyc3.cdn.digitaloceanspaces.com/img/wallpaper.png\" property=\"twitter:image\"/><script async=\"\" src=\"https://www.googletagmanager.com/gtag/js?id=G-0C1XB119T2\"></script><script>function gtag(){dataLayer.push(arguments)}window.dataLayer=window.dataLayer||[],gtag(\"js\",new Date),gtag(\"config\",\"G-0C1XB119T2\")</script><script data-domain=\"yieldsamurai.com\" defer=\"defer\" src=\"https://t.chainbulletin.com/js/script.js\"></script><script defer=\"defer\" src=\"/static/js/main.3e02d7a0.js\"></script><link href=\"/static/css/main.1be55ed1.css\" rel=\"stylesheet\"/></head><body><noscript>You need to enable JavaScript to run this app.</noscript><div id=\"root\"></div></body></html>"
      ]
     },
     "execution_count": 6,
     "metadata": {},
     "output_type": "execute_result"
    }
   ],
   "source": [
    "#get request\n",
    "response = requests.get(current_url)\n",
    "\n",
    "# soup object \n",
    "soup = BeautifulSoup(response.content, \"html.parser\")\n",
    "soup"
   ]
  },
  {
   "cell_type": "code",
   "execution_count": 7,
   "id": "c83217c5",
   "metadata": {},
   "outputs": [
    {
     "data": {
      "text/plain": [
       "200"
      ]
     },
     "execution_count": 7,
     "metadata": {},
     "output_type": "execute_result"
    }
   ],
   "source": [
    "#status code \n",
    "#200 means we have successfully \n",
    "#done our http request and stored it into this variable\n",
    "response.status_code "
   ]
  },
  {
   "cell_type": "markdown",
   "id": "f2e189f7",
   "metadata": {},
   "source": [
    "#### Data to extract\n",
    "- Age\n",
    "- Assets\n",
    "- DAPR\n",
    "- BAPR\n",
    "- TVL\n",
    "- Historical Data"
   ]
  }
 ],
 "metadata": {
  "kernelspec": {
   "display_name": "Python 3",
   "language": "python",
   "name": "python3"
  },
  "language_info": {
   "codemirror_mode": {
    "name": "ipython",
    "version": 3
   },
   "file_extension": ".py",
   "mimetype": "text/x-python",
   "name": "python",
   "nbconvert_exporter": "python",
   "pygments_lexer": "ipython3",
   "version": "3.8.8"
  }
 },
 "nbformat": 4,
 "nbformat_minor": 5
}
